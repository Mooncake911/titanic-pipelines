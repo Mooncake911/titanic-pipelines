{
 "cells": [
  {
   "cell_type": "code",
   "execution_count": 1,
   "id": "5e3b7719b772d975",
   "metadata": {
    "ExecuteTime": {
     "end_time": "2023-12-20T19:35:37.576558300Z",
     "start_time": "2023-12-20T19:35:34.399752500Z"
    },
    "collapsed": false,
    "execution": {
     "iopub.execute_input": "2023-12-20T20:05:57.050250Z",
     "iopub.status.busy": "2023-12-20T20:05:57.049243Z",
     "iopub.status.idle": "2023-12-20T20:06:00.902242Z",
     "shell.execute_reply": "2023-12-20T20:06:00.901241Z"
    },
    "papermill": {
     "duration": 3.857991,
     "end_time": "2023-12-20T20:06:00.904238",
     "exception": false,
     "start_time": "2023-12-20T20:05:57.046247",
     "status": "completed"
    },
    "tags": []
   },
   "outputs": [
    {
     "name": "stdout",
     "output_type": "stream",
     "text": [
      "Requirement already satisfied: kaggle in d:\\pythonenv\\elyra-test\\lib\\site-packages (1.5.16)\n",
      "Requirement already satisfied: six>=1.10 in d:\\pythonenv\\elyra-test\\lib\\site-packages (from kaggle) (1.16.0)\n",
      "Requirement already satisfied: certifi in d:\\pythonenv\\elyra-test\\lib\\site-packages (from kaggle) (2023.11.17)\n",
      "Requirement already satisfied: python-dateutil in d:\\pythonenv\\elyra-test\\lib\\site-packages (from kaggle) (2.8.2)\n",
      "Requirement already satisfied: requests in d:\\pythonenv\\elyra-test\\lib\\site-packages (from kaggle) (2.31.0)\n",
      "Requirement already satisfied: tqdm in d:\\pythonenv\\elyra-test\\lib\\site-packages (from kaggle) (4.66.1)\n",
      "Requirement already satisfied: python-slugify in d:\\pythonenv\\elyra-test\\lib\\site-packages (from kaggle) (8.0.1)\n",
      "Requirement already satisfied: urllib3 in d:\\pythonenv\\elyra-test\\lib\\site-packages (from kaggle) (1.26.18)\n",
      "Requirement already satisfied: bleach in d:\\pythonenv\\elyra-test\\lib\\site-packages (from kaggle) (6.1.0)\n",
      "Requirement already satisfied: webencodings in d:\\pythonenv\\elyra-test\\lib\\site-packages (from bleach->kaggle) (0.5.1)\n",
      "Requirement already satisfied: text-unidecode>=1.3 in d:\\pythonenv\\elyra-test\\lib\\site-packages (from python-slugify->kaggle) (1.3)\n",
      "Requirement already satisfied: charset-normalizer<4,>=2 in d:\\pythonenv\\elyra-test\\lib\\site-packages (from requests->kaggle) (3.3.2)\n",
      "Requirement already satisfied: idna<4,>=2.5 in d:\\pythonenv\\elyra-test\\lib\\site-packages (from requests->kaggle) (3.6)\n",
      "Requirement already satisfied: colorama in d:\\pythonenv\\elyra-test\\lib\\site-packages (from tqdm->kaggle) (0.4.6)\n"
     ]
    },
    {
     "name": "stderr",
     "output_type": "stream",
     "text": [
      "\n",
      "[notice] A new release of pip is available: 23.2.1 -> 23.3.2\n",
      "[notice] To update, run: python.exe -m pip install --upgrade pip\n"
     ]
    },
    {
     "name": "stdout",
     "output_type": "stream",
     "text": [
      "Kaggle API 1.5.16\n"
     ]
    }
   ],
   "source": [
    "!pip install kaggle\n",
    "!kaggle --version"
   ]
  },
  {
   "cell_type": "code",
   "execution_count": 2,
   "id": "39959042b1794ae4",
   "metadata": {
    "ExecuteTime": {
     "end_time": "2023-12-20T19:35:38.817344700Z",
     "start_time": "2023-12-20T19:35:37.579552Z"
    },
    "collapsed": false,
    "execution": {
     "iopub.execute_input": "2023-12-20T20:06:00.911233Z",
     "iopub.status.busy": "2023-12-20T20:06:00.910236Z",
     "iopub.status.idle": "2023-12-20T20:06:02.208346Z",
     "shell.execute_reply": "2023-12-20T20:06:02.207359Z"
    },
    "papermill": {
     "duration": 1.315115,
     "end_time": "2023-12-20T20:06:02.222352",
     "exception": false,
     "start_time": "2023-12-20T20:06:00.907237",
     "status": "completed"
    },
    "tags": []
   },
   "outputs": [
    {
     "name": "stdout",
     "output_type": "stream",
     "text": [
      "spaceship-titanic.zip: Skipping, found more recently modified local copy (use --force to force download)\n"
     ]
    }
   ],
   "source": [
    "!kaggle competitions download spaceship-titanic --wp -pdata"
   ]
  },
  {
   "cell_type": "code",
   "execution_count": 3,
   "id": "5bf048916aed5c99",
   "metadata": {
    "ExecuteTime": {
     "end_time": "2023-12-20T19:35:38.860636400Z",
     "start_time": "2023-12-20T19:35:38.819331800Z"
    },
    "collapsed": false,
    "execution": {
     "iopub.execute_input": "2023-12-20T20:06:02.229345Z",
     "iopub.status.busy": "2023-12-20T20:06:02.229345Z",
     "iopub.status.idle": "2023-12-20T20:06:02.241349Z",
     "shell.execute_reply": "2023-12-20T20:06:02.239360Z"
    },
    "papermill": {
     "duration": 0.018005,
     "end_time": "2023-12-20T20:06:02.243351",
     "exception": false,
     "start_time": "2023-12-20T20:06:02.225346",
     "status": "completed"
    },
    "tags": []
   },
   "outputs": [],
   "source": [
    "# !7z x data/spaceship-titanic.zip -odata"
   ]
  },
  {
   "cell_type": "code",
   "execution_count": 4,
   "id": "6f052eb0d0f660c5",
   "metadata": {
    "ExecuteTime": {
     "end_time": "2023-12-20T19:35:38.866374200Z",
     "start_time": "2023-12-20T19:35:38.835332800Z"
    },
    "collapsed": false,
    "execution": {
     "iopub.execute_input": "2023-12-20T20:06:02.249351Z",
     "iopub.status.busy": "2023-12-20T20:06:02.248350Z",
     "iopub.status.idle": "2023-12-20T20:06:02.272343Z",
     "shell.execute_reply": "2023-12-20T20:06:02.271339Z"
    },
    "papermill": {
     "duration": 0.028992,
     "end_time": "2023-12-20T20:06:02.274345",
     "exception": false,
     "start_time": "2023-12-20T20:06:02.245353",
     "status": "completed"
    },
    "tags": []
   },
   "outputs": [],
   "source": [
    "import zipfile\n",
    "\n",
    "zip_file_path = 'data/spaceship-titanic.zip'\n",
    "\n",
    "with zipfile.ZipFile(zip_file_path, 'r') as zip_ref:\n",
    "    zip_ref.extractall('data')"
   ]
  }
 ],
 "metadata": {
  "kernelspec": {
   "display_name": "Python 3",
   "language": "python",
   "name": "python3"
  },
  "language_info": {
   "codemirror_mode": {
    "name": "ipython",
    "version": 3
   },
   "file_extension": ".py",
   "mimetype": "text/x-python",
   "name": "python",
   "nbconvert_exporter": "python",
   "pygments_lexer": "ipython3",
   "version": "3.10.11"
  },
  "papermill": {
   "default_parameters": {},
   "duration": 7.291151,
   "end_time": "2023-12-20T20:06:02.523981",
   "environment_variables": {},
   "exception": null,
   "input_path": "D:\\Projects\\PyCharm_Projects\\Elyra-test\\pipelines\\titanic-pipelines\\load_data.ipynb",
   "output_path": "D:\\Projects\\PyCharm_Projects\\Elyra-test\\pipelines\\titanic-pipelines\\load_data.ipynb",
   "parameters": {},
   "start_time": "2023-12-20T20:05:55.232830",
   "version": "2.5.0"
  }
 },
 "nbformat": 4,
 "nbformat_minor": 5
}